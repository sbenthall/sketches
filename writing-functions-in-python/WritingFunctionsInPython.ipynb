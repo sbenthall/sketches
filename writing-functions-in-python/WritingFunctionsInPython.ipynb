{
 "cells": [
  {
   "cell_type": "markdown",
   "metadata": {
    "slideshow": {
     "slide_type": "slide"
    }
   },
   "source": [
    "# Writing Functions In Python"
   ]
  },
  {
   "cell_type": "markdown",
   "metadata": {
    "slideshow": {
     "slide_type": "slide"
    }
   },
   "source": [
    "## Contents of this tutorial\n",
    "\n",
    "It is aimed at students with no previous programming experience, and high school algebra.\n",
    "\n",
    "This tutorial will include:\n",
    " * A discussion of what a function is:\n",
    "     * in mathematics\n",
    "     * and computer programming.\n",
    " * Demystifying some basics:\n",
    "     * Interpetation\n",
    "     * Variable binding\n",
    "     * Types\n",
    " * Introducing 'computational thinking'\n",
    "     * Anonymous functions\n",
    "     * Higher order functions\n",
    "     \n",
    "These are fundamentals, not applications.\n",
    "     \n",
    "I will be presenting the material to you through an interactive scientific notebook, Jupyter.\n",
    "\n",
    "We can play with any source code you see interactively. Chime in if you'd like to try something."
   ]
  },
  {
   "cell_type": "code",
   "execution_count": null,
   "metadata": {},
   "outputs": [],
   "source": [
    "\"This is some %s source code.\" % (\"other\")"
   ]
  },
  {
   "cell_type": "markdown",
   "metadata": {
    "slideshow": {
     "slide_type": "slide"
    }
   },
   "source": [
    "## What is a function?\n",
    "\n",
    "What is a _function_ ?"
   ]
  },
  {
   "cell_type": "markdown",
   "metadata": {
    "slideshow": {
     "slide_type": "slide"
    }
   },
   "source": [
    "### In mathematics\n",
    "\n",
    "In mathematics, a function is a mapping, or relation, between two sets.\n",
    "\n",
    "![mathematical function](https://upload.wikimedia.org/wikipedia/commons/thumb/8/83/Injection_keine_Injektion_2a.svg/330px-Injection_keine_Injektion_2a.svg.png)\n",
    "\n",
    "_A function between the sets $X = \\{1,2,3\\}$ and $Y = \\{A, B, C, D\\}$._\n",
    "\n",
    "A function maps from a _domain_ (here, X), to a _codomain_ (here, Y)."
   ]
  },
  {
   "cell_type": "markdown",
   "metadata": {
    "slideshow": {
     "slide_type": "slide"
    }
   },
   "source": [
    "To write \"The function named $f$ maps from domain X to codomain Y\" in mathematical notation, one writes:\n",
    "$$f: X \\rightarrow Y$$\n",
    "\n",
    "To show that the application of the function $f$ to the number 2 maps to the letter C, one writes:\n",
    "$$f(2) = C$$"
   ]
  },
  {
   "cell_type": "markdown",
   "metadata": {
    "slideshow": {
     "slide_type": "slide"
    }
   },
   "source": [
    "### In computer programming\n",
    "\n",
    "In computer programming, \"function\" means something different from what it means in math.\n",
    "\n",
    "Here, \"function\" is synonymous with: procedure, routine.\n",
    "\n",
    "It is a series of steps of _things to be done_.\n",
    "\n",
    "Here is an example of a function definition, and its application, in Python:"
   ]
  },
  {
   "cell_type": "code",
   "execution_count": null,
   "metadata": {
    "slideshow": {
     "slide_type": "subslide"
    }
   },
   "outputs": [],
   "source": [
    "def f(x):\n",
    "    if x == 1:\n",
    "        return \"D\"\n",
    "    \n",
    "    if x == 2 or x == 3:\n",
    "        return \"C\""
   ]
  },
  {
   "cell_type": "markdown",
   "metadata": {},
   "source": [
    "**Translation**: \n",
    "> \"Define a function named 'f' that takes as input a parameter 'x'. If x is equal to 1, return \"D\". If x is equal to 2, or if x is equal to 3, then return \"C\".\""
   ]
  },
  {
   "cell_type": "code",
   "execution_count": null,
   "metadata": {},
   "outputs": [],
   "source": [
    "f(1)"
   ]
  },
  {
   "cell_type": "markdown",
   "metadata": {},
   "source": [
    "In the function definition, we call `x` the input _parameter_ of `f`. \n",
    "\n",
    "In `f(1)`, `1` is an _argument_ to `f`."
   ]
  },
  {
   "cell_type": "code",
   "execution_count": null,
   "metadata": {},
   "outputs": [],
   "source": [
    "f(2)"
   ]
  },
  {
   "cell_type": "code",
   "execution_count": null,
   "metadata": {},
   "outputs": [],
   "source": [
    "f(3)"
   ]
  },
  {
   "cell_type": "code",
   "execution_count": null,
   "metadata": {},
   "outputs": [],
   "source": [
    "print(f(4))"
   ]
  },
  {
   "cell_type": "markdown",
   "metadata": {},
   "source": [
    "## Interpreting Code\n",
    "\n",
    "Mathematical notation is a precise style of writing about abstract concepts.\n",
    "\n",
    "It works because people are trained to read and write it in precisely the same way.\n",
    "\n",
    "Python, like mathematical notation, is a way of writing with precise meaning.\n",
    "\n",
    "It gets its meaning from how a computer program interprets it.\n",
    "\n",
    "This program is called the _Python Interpreter_.\n",
    "\n",
    "This interpreter will complain if you write something that it doesn't understand."
   ]
  },
  {
   "cell_type": "code",
   "execution_count": null,
   "metadata": {},
   "outputs": [],
   "source": [
    "def f(x):\n",
    "    if x == 1:\n",
    "        return \"D\"\n",
    "    \n",
    "    if x == 2 or x == 3:\n",
    "        return C\n",
    "    \n",
    "f(1)"
   ]
  },
  {
   "cell_type": "markdown",
   "metadata": {},
   "source": [
    "This code has an error in it--a \"bug\". The Python interpreter has helpfully told us where it ran into difficulty understanding the code.\n",
    "\n",
    "**Question**: Why did this program fail?"
   ]
  },
  {
   "cell_type": "markdown",
   "metadata": {},
   "source": [
    "### Variables and Binding\n",
    "\n",
    "When we defined the function `f` before, we told the interpreter that the symbol `f` means the function.\n",
    "\n",
    "\n",
    "A symbol (like a word) that is not\n",
    "* a language keyword (like `if` or `def`), or\n",
    "* defined in the code\n",
    "\n",
    "it will throw an error when it is called."
   ]
  },
  {
   "cell_type": "code",
   "execution_count": null,
   "metadata": {},
   "outputs": [],
   "source": [
    "alpha * 5"
   ]
  },
  {
   "cell_type": "markdown",
   "metadata": {},
   "source": [
    "When a function is called, the arguments are bound to the parameters.\n",
    "\n",
    "The parameter names are defined as the argument values _within_ the function."
   ]
  },
  {
   "cell_type": "code",
   "execution_count": null,
   "metadata": {},
   "outputs": [],
   "source": [
    "# def times5(alpha):\n",
    "#     return alpha * 5\n",
    "#     \n",
    "# times5(10)"
   ]
  },
  {
   "cell_type": "code",
   "execution_count": null,
   "metadata": {},
   "outputs": [],
   "source": [
    "# alpha * 10"
   ]
  },
  {
   "cell_type": "markdown",
   "metadata": {},
   "source": [
    "Let's fix the function definition below.\n",
    "\n",
    "While we're at it, what else can we make this function do?"
   ]
  },
  {
   "cell_type": "code",
   "execution_count": null,
   "metadata": {},
   "outputs": [],
   "source": [
    "def f(x):\n",
    "    if x == 1:\n",
    "        return \"D\"\n",
    "    \n",
    "    if x == 2 or x == 3:\n",
    "        return \"C\""
   ]
  },
  {
   "cell_type": "markdown",
   "metadata": {},
   "source": [
    "### Types\n",
    "\n",
    "As the interpreter \"reads\" code, it creates (virtual, digital) objects and manipulates them.\n",
    "\n",
    "The objects created belong to several different categories, or \"types\".\n",
    "\n",
    "Understanding the differences between types is a core skill of computer programming.\n",
    "\n",
    "To learn the type of an object, you can use the built-in Python `type` function."
   ]
  },
  {
   "cell_type": "code",
   "execution_count": null,
   "metadata": {},
   "outputs": [],
   "source": [
    "type(1)"
   ]
  },
  {
   "cell_type": "markdown",
   "metadata": {},
   "source": [
    "`int` stands for \"integer\": $..., -2, -1, 0, 1, 2, ...$"
   ]
  },
  {
   "cell_type": "code",
   "execution_count": null,
   "metadata": {},
   "outputs": [],
   "source": [
    "type(\"D\")"
   ]
  },
  {
   "cell_type": "markdown",
   "metadata": {},
   "source": [
    "`str` stands for \"string\", which is a computer science term for a sequence of letters, numbers, punctuation marks ( _characters_ ). To compute the number of characters in a string, you can use the built-in Python function `len`."
   ]
  },
  {
   "cell_type": "code",
   "execution_count": null,
   "metadata": {},
   "outputs": [],
   "source": [
    "len(\"D\")"
   ]
  },
  {
   "cell_type": "code",
   "execution_count": null,
   "metadata": {},
   "outputs": [],
   "source": [
    "len(\"Hello World!\")"
   ]
  },
  {
   "cell_type": "code",
   "execution_count": null,
   "metadata": {},
   "outputs": [],
   "source": [
    "# What will be the result?\n",
    "type(len(\"Hello World!\"))"
   ]
  },
  {
   "cell_type": "code",
   "execution_count": null,
   "metadata": {},
   "outputs": [],
   "source": [
    "type(len)"
   ]
  },
  {
   "cell_type": "code",
   "execution_count": null,
   "metadata": {},
   "outputs": [],
   "source": [
    "type(f)"
   ]
  },
  {
   "cell_type": "markdown",
   "metadata": {},
   "source": [
    "Another useful built-in function, `isinstance`:"
   ]
  },
  {
   "cell_type": "code",
   "execution_count": null,
   "metadata": {},
   "outputs": [],
   "source": [
    "isinstance(120,int)"
   ]
  },
  {
   "cell_type": "code",
   "execution_count": null,
   "metadata": {
    "scrolled": true
   },
   "outputs": [],
   "source": [
    "isinstance(120,str)"
   ]
  },
  {
   "cell_type": "markdown",
   "metadata": {},
   "source": [
    "## More Fun with Functions"
   ]
  },
  {
   "cell_type": "markdown",
   "metadata": {},
   "source": [
    "A key element of _computational thinking_ is understanding how _functionality_ can be _an object_."
   ]
  },
  {
   "cell_type": "markdown",
   "metadata": {},
   "source": [
    "### Anonymous Functions\n",
    "\n",
    "Before, when we defined `f`, we gave it a name.\n",
    "\n",
    "In Python, you can also define an _anonymous_ function using the operator `lambda` -- $\\lambda$ -- like so:\n",
    "\n",
    "`lambda <parameters> : <expression-to-return>`"
   ]
  },
  {
   "cell_type": "code",
   "execution_count": null,
   "metadata": {},
   "outputs": [],
   "source": [
    "def g(x):\n",
    "    return (x + 10) / 5"
   ]
  },
  {
   "cell_type": "code",
   "execution_count": null,
   "metadata": {},
   "outputs": [],
   "source": [
    "lambda x : 0"
   ]
  },
  {
   "cell_type": "code",
   "execution_count": null,
   "metadata": {},
   "outputs": [],
   "source": [
    "type(lambda x : 0)"
   ]
  },
  {
   "cell_type": "code",
   "execution_count": null,
   "metadata": {},
   "outputs": [],
   "source": [
    "(lambda x : 0)(1)"
   ]
  },
  {
   "cell_type": "code",
   "execution_count": null,
   "metadata": {},
   "outputs": [],
   "source": [
    "# (lambda x : 0)(\"No matter what\")"
   ]
  },
  {
   "cell_type": "code",
   "execution_count": null,
   "metadata": {},
   "outputs": [],
   "source": [
    "# (lambda x : x + 1)(5)"
   ]
  },
  {
   "cell_type": "code",
   "execution_count": null,
   "metadata": {},
   "outputs": [],
   "source": [
    "# (lambda x, y : x * 2 + y)(20, 5)"
   ]
  },
  {
   "cell_type": "markdown",
   "metadata": {},
   "source": [
    "### Higher Order Functions"
   ]
  },
  {
   "cell_type": "markdown",
   "metadata": {},
   "source": [
    "In Python, functions are objects.\n",
    "\n",
    "That means you can give functions as inputs to _other functions_.\n",
    "\n",
    "A function that takes other functions an input is a \"higher order function\"."
   ]
  },
  {
   "cell_type": "code",
   "execution_count": null,
   "metadata": {},
   "outputs": [],
   "source": [
    "def apply(func, x):\n",
    "    return func(x)\n",
    "\n",
    "apply(f,1)"
   ]
  },
  {
   "cell_type": "code",
   "execution_count": null,
   "metadata": {},
   "outputs": [],
   "source": [
    "def add2(x):\n",
    "    return x + 2\n",
    "\n",
    "apply(add2,100)"
   ]
  },
  {
   "cell_type": "code",
   "execution_count": null,
   "metadata": {},
   "outputs": [],
   "source": [
    "# def apply_twice(func, x):\n",
    "#     return func(func(x))\n",
    "\n",
    "# apply_twice(add2, 10)"
   ]
  },
  {
   "cell_type": "code",
   "execution_count": null,
   "metadata": {},
   "outputs": [],
   "source": [
    "# apply_twice(add2, apply_twice(add2, 10))"
   ]
  },
  {
   "cell_type": "code",
   "execution_count": null,
   "metadata": {},
   "outputs": [],
   "source": [
    "# apply_twice(lambda x: apply_twice(add2,x), 10)"
   ]
  },
  {
   "cell_type": "markdown",
   "metadata": {},
   "source": [
    "What else can we do with functions in Python?"
   ]
  }
 ],
 "metadata": {
  "kernelspec": {
   "display_name": "Python 3",
   "language": "python",
   "name": "python3"
  },
  "language_info": {
   "codemirror_mode": {
    "name": "ipython",
    "version": 3
   },
   "file_extension": ".py",
   "mimetype": "text/x-python",
   "name": "python",
   "nbconvert_exporter": "python",
   "pygments_lexer": "ipython3",
   "version": "3.6.9"
  },
  "latex_envs": {
   "LaTeX_envs_menu_present": true,
   "autoclose": false,
   "autocomplete": true,
   "bibliofile": "biblio.bib",
   "cite_by": "apalike",
   "current_citInitial": 1,
   "eqLabelWithNumbers": true,
   "eqNumInitial": 1,
   "hotkeys": {
    "equation": "Ctrl-E",
    "itemize": "Ctrl-I"
   },
   "labels_anchors": false,
   "latex_user_defs": false,
   "report_style_numbering": false,
   "user_envs_cfg": false
  },
  "toc": {
   "base_numbering": 1,
   "nav_menu": {},
   "number_sections": true,
   "sideBar": true,
   "skip_h1_title": false,
   "title_cell": "Table of Contents",
   "title_sidebar": "Contents",
   "toc_cell": false,
   "toc_position": {},
   "toc_section_display": true,
   "toc_window_display": false
  }
 },
 "nbformat": 4,
 "nbformat_minor": 4
}

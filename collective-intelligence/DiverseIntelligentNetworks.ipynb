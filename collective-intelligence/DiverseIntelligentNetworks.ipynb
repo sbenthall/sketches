{
 "cells": [
  {
   "cell_type": "markdown",
   "metadata": {},
   "source": [
    "# Recruiting and Retaining Diversity for Collective Intelligence\n",
    "\n",
    "Previous research has shown that collective problem solving benefits from the diversity of the agents involved (Hong and Page, 2001, 2004). Other research (McPherson et al., 2011; Newman, 2002) has shown that homophily--the strong social associations between people that are otherwise alike--exerts a strong force on social network development. For community networks that seek to grow organically for collective benefit, homophily effects counter diversity, reducing collective intelligence (Newman and Dale, 2007).\n",
    "\n",
    "In this notebook, we build a model of diversity in communities and the homophily effects that result from organic recruiting. We ask: what recruiting policies or incentives can improve the growth of the social network along various dimensions of desiderata, including diversity and size."
   ]
  },
  {
   "cell_type": "code",
   "execution_count": null,
   "metadata": {},
   "outputs": [],
   "source": [
    "# TODO: coding up a model here..."
   ]
  },
  {
   "cell_type": "markdown",
   "metadata": {},
   "source": [
    "## References\n",
    "\n",
    "Hong, L., & Page, S. E. (2001). Problem solving by heterogeneous agents. Journal of economic theory, 97(1), 123-163.\n",
    "\n",
    "Hong, L., & Page, S. E. (2004). Groups of diverse problem solvers can outperform groups of high-ability problem solvers. Proceedings of the National Academy of Sciences, 101(46), 16385-16389.\n",
    "\n",
    "McPherson, M., Smith-Lovin, L., & Cook, J. M. (2001). Birds of a feather: Homophily in social networks. Annual review of sociology, 27(1), 415-444.\n",
    "\n",
    "Newman, M. E. (2002). Assortative mixing in networks. Physical review letters, 89(20), 208701.\n",
    "\n",
    "Newman, L., & Dale, A. (2007). Homophily and agency: creating effective sustainable development networks. Environment, development and sustainability, 9(1), 79-90."
   ]
  }
 ],
 "metadata": {
  "kernelspec": {
   "display_name": "Python 3",
   "language": "python",
   "name": "python3"
  },
  "language_info": {
   "name": ""
  }
 },
 "nbformat": 4,
 "nbformat_minor": 2
}

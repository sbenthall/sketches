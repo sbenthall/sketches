{
 "cells": [
  {
   "cell_type": "markdown",
   "id": "8c76f252",
   "metadata": {},
   "source": [
    "This notebook attempts to lay out the ontology of Maturana and Varela's biology of cognition (BoC) and extensions into the modeling of social spheres in a computational modeling language."
   ]
  },
  {
   "cell_type": "markdown",
   "id": "650d12e0",
   "metadata": {},
   "source": [
    "## Defining key concepts"
   ]
  },
  {
   "cell_type": "code",
   "execution_count": 1,
   "id": "1aca988b",
   "metadata": {},
   "outputs": [],
   "source": [
    "class Unity:\n",
    "    def __init__(self, medium, educed_by = None):\n",
    "        self.educed_by = educed_by\n",
    "        \n",
    "        # \"A distinguished composite unity entails a distinguished / ascribed medium.\"\n",
    "        self.medium = medium\n",
    "\n",
    "\n",
    "class System(Unity):\n",
    "    pass\n",
    "\n",
    "class AutonomousSystem(System):\n",
    "    \n",
    "    def __init__(self, structure):\n",
    "        self.structure = structure\n",
    "        self.couplings = {}\n",
    "        \n",
    "    def organization(self):\n",
    "        # \"The observer's autonomy is specified with respect \n",
    "        # to its *ORGANIZATION* and operations; it is organizationally closed.\"\n",
    "        \n",
    "        \"\"\"\n",
    "        Organization is the pattern / schema / whatever that defines A as \n",
    "        a member of a given class of entities.\n",
    "        Structure consists of those elements of the medium / space that \n",
    "        participate in the realization / instantiation of that abstract \n",
    "        organization in the form of a \"tangible\" specific specimen of the class.\n",
    "        \"\"\"\n",
    "        return type(self.structure)\n",
    "    \n",
    "    # An observer must be an autonomous system\n",
    "    def observes(self, other, ascribed_medium):\n",
    "        # \"Let there be an observer, A.\"\n",
    "        # \"This entails A being a composite unity capable of observing \n",
    "        # (making distinctions with which A can interact as if they \n",
    "        # were couple-able entities within the medium / environment).\"\"\n",
    "        \n",
    "        \"\"\"\n",
    "        In Maturana's terms, B \"distinguishes\" A as a unity.\n",
    "        This act of distinction \"brings forth\" (educes) A as a unity \n",
    "        B distinguishes in the context of this scenario.\n",
    "        \"\"\"\n",
    "        self.couplings[other] = Unity(ascribed_medium, educed_by = self)\n",
    "        \n",
    "        return self.couplings[other]\n",
    "\n",
    "class AutopoieticSystem(AutonomousSystem):\n",
    "    \"\"\"\n",
    "    If A is autopoietic, A complies with VMU conditions in molecular space.\n",
    "    \"\"\"\n",
    "    \n",
    "    \"\"\"\n",
    "    A's medium is molecular space.\n",
    "    \n",
    "    If B is distinguishing A within the physical space (and that space alone) \n",
    "    this is a relatively safe statement, but it need not \n",
    "    specify the molecular level of granularity.\n",
    "\n",
    "    The (M-declared) fact that A's autopoiesis is realized in \n",
    "    the physical space at the molecular level of granularity \n",
    "    doesn't mean that the composite unity A's overall form and \n",
    "    behavior (observable by B) are physically manifested at \n",
    "    the molecular level of granularity with the same uniqueness \n",
    "    Maturana attributed to that level as a venue for autopoiesis.\n",
    "    \"\"\"\n",
    "    \n",
    "    def __init__(self, structure):\n",
    "        assert(structure.space == 'molecular')\n",
    "        \n",
    "        super().__init__(structure)\n",
    "\n",
    "    "
   ]
  },
  {
   "cell_type": "code",
   "execution_count": 2,
   "id": "33baeb67",
   "metadata": {},
   "outputs": [],
   "source": [
    "## The relationship between organization and structure is that between a type and its instance.\n",
    "\n",
    "class Structure():\n",
    "    \n",
    "    def __init__(self):\n",
    "        self.space = False\n",
    "        pass\n",
    "        \n",
    "        \"\"\"\n",
    "        The organizational closure implies a bounded-ness for the \n",
    "        network of processes realizing the organizationally closed \n",
    "        system / entity / whatever.  \n",
    "        The boundary demarcates the extent / extension of these \n",
    "        processes (as manifest / distinguishable within the medium \n",
    "        entailed in distinguishing A in the first place) within the medium.  \n",
    "        This boundary is not necessarily a \"thing\" that encapsulates A.  \n",
    "        The boundary is defined by A's dynamic realization.  It is \"of\" A.  \n",
    "        The boundary is not to be construed as a separate thing intervening \n",
    "        between A and the medium / environment (at least not when initially \n",
    "        / generally distinguishing A in the first place).\n",
    "        \"\"\"\n",
    "        #self.boundary = TBD -- some subset of the parts/operations\n",
    "        \n",
    "class MolecularStructure(Structure):\n",
    "    def __init__(self):\n",
    "        self.space = 'molecular'"
   ]
  },
  {
   "cell_type": "markdown",
   "id": "641abe65",
   "metadata": {},
   "source": [
    "## Test code"
   ]
  },
  {
   "cell_type": "code",
   "execution_count": 3,
   "id": "46bc38d2",
   "metadata": {},
   "outputs": [
    {
     "data": {
      "text/plain": [
       "True"
      ]
     },
     "execution_count": 3,
     "metadata": {},
     "output_type": "execute_result"
    }
   ],
   "source": [
    "isinstance(AutopoieticSystem(MolecularStructure()), Unity)"
   ]
  },
  {
   "cell_type": "code",
   "execution_count": 4,
   "id": "d5c47574",
   "metadata": {},
   "outputs": [
    {
     "data": {
      "text/plain": [
       "<__main__.AutonomousSystem at 0x7fe93066e580>"
      ]
     },
     "execution_count": 4,
     "metadata": {},
     "output_type": "execute_result"
    }
   ],
   "source": [
    "A = AutonomousSystem(Structure())\n",
    "A"
   ]
  },
  {
   "cell_type": "code",
   "execution_count": 5,
   "id": "a1232990",
   "metadata": {},
   "outputs": [],
   "source": [
    "B = AutopoieticSystem(MolecularStructure())"
   ]
  },
  {
   "cell_type": "code",
   "execution_count": 6,
   "id": "66f2f827",
   "metadata": {},
   "outputs": [],
   "source": [
    "B_to_A = A.observes(B, \"swamp\")"
   ]
  },
  {
   "cell_type": "code",
   "execution_count": 7,
   "id": "ff6f6d54",
   "metadata": {},
   "outputs": [
    {
     "data": {
      "text/plain": [
       "<__main__.AutonomousSystem at 0x7fe93066e580>"
      ]
     },
     "execution_count": 7,
     "metadata": {},
     "output_type": "execute_result"
    }
   ],
   "source": [
    "B_to_A.educed_by"
   ]
  },
  {
   "cell_type": "markdown",
   "id": "69d2ef32",
   "metadata": {},
   "source": [
    "## Unrendered specifications"
   ]
  },
  {
   "cell_type": "markdown",
   "id": "9e4aacf7",
   "metadata": {},
   "source": [
    "B observes A's boundary with its environment.\n",
    "\n",
    "======================\n",
    "\n",
    "Maybe; maybe not ...\n",
    "\n",
    "The limits of unity A's extension as observed by B are attributed by B in the act of distinction.\n",
    "\n",
    "As a dynamic composite unity, A's logical / operational \"boundary\" (per VMU specs) is determined by A's network of constitutive processes.\n",
    "\n",
    "B may (e.g.) perceive a \"border\" or \"silhouette\" of A's structure (which is all that B can \"see\") that isn't identical to the actual extension of A's network of constitutive processes.  In other words, there may be more or less to A than what B apprehends of A's \"visible\" (perceptible) structure.\n",
    "\n",
    "-------------\n",
    "\n",
    "\n",
    "A and not A *AS ATTRIBUTED BY B IN DISTINGUISHING A* are a system and environment for B.\n",
    "\n",
    "======================\n",
    "\n",
    "See the preceding point.  B can be mistaken.\n",
    "\n",
    "-------------\n",
    "\n",
    "\n",
    "B's educing of A involves a recognition of A's autonomy, its organizational closure.\n",
    "\n",
    "======================\n",
    "\n",
    "This is not a requirement, nor is it automatically applicable.\n",
    "\n",
    "Even if B (e.g., recursively) distinguishes sub-units / attributed components / parts within the overall A, it would not necessarily entail B recognizing A as organizationally closed / autonomous.\n",
    "\n",
    "-------------\n"
   ]
  },
  {
   "cell_type": "markdown",
   "id": "558619c4",
   "metadata": {},
   "source": [
    "## Acknowledgements\n",
    "\n",
    "This notebook draws heavily from (quotes directly from, copies) exposition of Maturana and Varela's theory on the American Society for Cybernetic conversation mailing list."
   ]
  },
  {
   "cell_type": "code",
   "execution_count": null,
   "id": "b7c5ba56",
   "metadata": {},
   "outputs": [],
   "source": []
  }
 ],
 "metadata": {
  "kernelspec": {
   "display_name": "Python 3 (ipykernel)",
   "language": "python",
   "name": "python3"
  },
  "language_info": {
   "codemirror_mode": {
    "name": "ipython",
    "version": 3
   },
   "file_extension": ".py",
   "mimetype": "text/x-python",
   "name": "python",
   "nbconvert_exporter": "python",
   "pygments_lexer": "ipython3",
   "version": "3.9.7"
  }
 },
 "nbformat": 4,
 "nbformat_minor": 5
}

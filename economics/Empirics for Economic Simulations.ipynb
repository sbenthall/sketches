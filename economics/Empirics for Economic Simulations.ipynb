{
 "cells": [
  {
   "cell_type": "markdown",
   "id": "76921e1b",
   "metadata": {},
   "source": [
    "## Notes on empirics and economic simulations\n",
    "\n",
    "From meeting with CDC 5/11/22\n",
    "\n",
    "### Two broad approaches\n",
    "\n",
    "Two extremes.\n",
    "\n",
    "- _Econometrics_. A focus on stable causal relationships in data. Using strong assumptions of linear causation. Ensure exogenous causation by focusing on the problem of _identification_.\n",
    "\n",
    "- _Structural models_.  Requires understanding the key things the model will accomplish. What are the key empirical facts? What structural mechanism will be illuminated? There might be (endogenous) stylized facts. Example: \"Distribution of Wealtha and the Marginal Propensity to Consume\" -- need model to match high-level fact then let time preference be what's adjusted (assuming time preference is uniformly distributed.)\n",
    "\n",
    "### Unifying third way: Indirect inference\n",
    "\n",
    "- Try to make all the choices rigorous.\n",
    "- Set all moments of distributions to match\n",
    "- pay attention to statistical degrees of uncertainty\n",
    "\n",
    "The battle plays out: it's hard to reach clairty about identification in these models.\n",
    "\n",
    "### Other approaches\n",
    "\n",
    "Testfatsion: 'validation of ABMs\" -- refering to whether the model of agent behavior corresponds to what we think they are doing. For non-rational approaches. No systematized use of evidence yet.\n",
    "\n",
    "### HARK and SHARK\n",
    "\n",
    "You can apply indirect inference to a whole model:\n",
    " - decide which aspects of the model are estimable\n",
    " - find which values of the estimable values create target features that match the data -- \"stylized facts\"\n",
    " \n",
    "In SHARKFin, if volatility is independnet of the consumer, we get separabel indirect inference problems.\n",
    "\n",
    "A system $S$ includes components $C_1$ and $C_2$. The components can be validated separately, then combined into $S$.\n",
    "\n",
    "- ABM people may make up the agent behavior when there are good rules of thumb about the micofoundations\n",
    "- Economists are more interested in behaviors that can be derived from an optimizing process. "
   ]
  },
  {
   "cell_type": "code",
   "execution_count": null,
   "id": "1fa4318e",
   "metadata": {},
   "outputs": [],
   "source": []
  }
 ],
 "metadata": {
  "kernelspec": {
   "display_name": "hark-env",
   "language": "python",
   "name": "hark-env"
  },
  "language_info": {
   "codemirror_mode": {
    "name": "ipython",
    "version": 3
   },
   "file_extension": ".py",
   "mimetype": "text/x-python",
   "name": "python",
   "nbconvert_exporter": "python",
   "pygments_lexer": "ipython3",
   "version": "3.9.7"
  }
 },
 "nbformat": 4,
 "nbformat_minor": 5
}

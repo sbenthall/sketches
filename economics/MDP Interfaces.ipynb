{
 "cells": [
  {
   "cell_type": "code",
   "execution_count": 1,
   "metadata": {},
   "outputs": [],
   "source": [
    "import matplotlib.pyplot as plt\n",
    "import numpy as np\n",
    "from scipy.special import expit"
   ]
  },
  {
   "cell_type": "markdown",
   "metadata": {},
   "source": [
    "# MDP Interfaces\n",
    "\n",
    "This notebook is intended to demonstrate a lightweight way to represent an MDP in Python.\n",
    "\n",
    "It is intended to be a very _general_ representation which is both:\n",
    " - clean and easy to understand\n",
    " - general enough to have powerful functionality in special cases"
   ]
  },
  {
   "cell_type": "markdown",
   "metadata": {},
   "source": [
    "## Model Variables\n",
    "\n",
    "At the core of any MDP are model variables. There are many types of model variables. These include:\n",
    "\n",
    "* **State variables**. State variables can be reassigned at each time step. A state variable has a *transition function*, which is a function of other variables (and possibly itself).\n",
    "* **Control variables**. Control variables are controlled by an agent. The model does not contain a transition function for them. But it is known what other variables--its *parents* or *dependencies* or *inputs*--a control variable may depend on. A *decision rule* induces into a control variable a function, whose domain is the Cartesian product of its parents, that works like a transition function.\n",
    "* **Exogenous variables**. Exogenous variables are randomly sampled at each time step, but their values do not persist like state variables."
   ]
  },
  {
   "cell_type": "code",
   "execution_count": 2,
   "metadata": {},
   "outputs": [],
   "source": [
    "class Variable():\n",
    "    # List of strings, the names of variables\n",
    "    value = None\n",
    "    parents = []\n",
    "    \n",
    "    def __init__(self, parents, value=None):\n",
    "        self.value = value\n",
    "        self.parents = parents\n",
    "        self.history = []\n",
    "\n",
    "    def update_value(self, model):\n",
    "        self.history.append(self.value)\n",
    "        return self.value\n",
    "        \n",
    "class StateVariable(Variable):\n",
    "    def __init__(self, parents, transition, value=0):\n",
    "        super().__init__(parents, value=value)\n",
    "        self.transition = transition\n",
    "    \n",
    "    def update_value(self, model):\n",
    "        self.value = self.transition(*[model.variables[p].value\n",
    "                                       for p\n",
    "                                       in self.parents])\n",
    "        return super().update_value(model)\n",
    "    \n",
    "class ControlVariable(Variable):\n",
    "    def __init__(self, parents):\n",
    "        super().__init__(parents)\n",
    "        self.decision_rule = None\n",
    "    \n",
    "    def update_value(self, model):\n",
    "        if self.decision_rule is None:\n",
    "            raise Exception(\"Warning: There's no decision rule!\")\n",
    "            return None\n",
    "        else:\n",
    "            self.value = self.decision_rule(*[model.variables[p].value\n",
    "                                            for p\n",
    "                                            in self.parents])\n",
    "            return super().update_value(model)\n",
    "        \n",
    "    def set_decision_rule(self, decision_rule):\n",
    "        self.decision_rule = decision_rule\n",
    "        \n",
    "class ExogenousVariable(Variable):\n",
    "    def __init__(self, distribution):\n",
    "        super().__init__([])\n",
    "        self.distribution = distribution\n",
    "        \n",
    "    def update_value(self, model):\n",
    "        self.value = self.distribution()\n",
    "        return super().update_value(model)"
   ]
  },
  {
   "cell_type": "markdown",
   "metadata": {},
   "source": [
    "## Models\n",
    "\n",
    "A model is a named set of variables. The parents of each variable refer to the variable's model name."
   ]
  },
  {
   "cell_type": "code",
   "execution_count": 3,
   "metadata": {},
   "outputs": [],
   "source": [
    "class Model():\n",
    "    def __init__(self, variables, order):\n",
    "        self.variables = variables\n",
    "        \n",
    "        ## in a future version, this can be inferred\n",
    "        ## from the variables themselves\n",
    "        self.order = order\n",
    "    \n",
    "    def simulateOne(self):\n",
    "        for var_name in self.order:\n",
    "            self.variables[var_name].update_value(self)\n",
    "    "
   ]
  },
  {
   "cell_type": "markdown",
   "metadata": {},
   "source": [
    "Let's create a simple model. It has:\n",
    " - A state variable $t$ that increments each time step.\n",
    " - A resources variable $m$ that accumulates over time\n",
    " - An exogenous variable $s$ that is a lognormal distribution.\n",
    " - A control variable $c$ \n",
    " \n",
    " $$m' = (m - c) * s$$\n",
    " $$t' = t + 1$$"
   ]
  },
  {
   "cell_type": "code",
   "execution_count": 4,
   "metadata": {},
   "outputs": [],
   "source": [
    "my_model = Model({\n",
    "    't' : StateVariable(\n",
    "        ['t'],\n",
    "        lambda t: t + 1\n",
    "    ),\n",
    "    'c' : ControlVariable(\n",
    "        ['m','t']),\n",
    "    's' : ExogenousVariable(\n",
    "        lambda : np.random.lognormal(mean=1.0, sigma=1.0)\n",
    "    ),\n",
    "    'm' : StateVariable(\n",
    "        ['m','c','s'],\n",
    "        lambda m, c, s: (m - c) * s,\n",
    "        value = 1\n",
    "    )\n",
    "}, ['t','c','s','m'])"
   ]
  },
  {
   "cell_type": "markdown",
   "metadata": {},
   "source": [
    "## Simulation\n",
    "\n",
    "A model can be simulated by updating its variables in order."
   ]
  },
  {
   "cell_type": "code",
   "execution_count": 5,
   "metadata": {},
   "outputs": [
    {
     "ename": "Exception",
     "evalue": "Warning: There's no decision rule!",
     "output_type": "error",
     "traceback": [
      "\u001b[0;31m---------------------------------------------------------------------------\u001b[0m",
      "\u001b[0;31mException\u001b[0m                                 Traceback (most recent call last)",
      "\u001b[0;32m<ipython-input-5-3c183b468474>\u001b[0m in \u001b[0;36m<module>\u001b[0;34m\u001b[0m\n\u001b[0;32m----> 1\u001b[0;31m \u001b[0mmy_model\u001b[0m\u001b[0;34m.\u001b[0m\u001b[0msimulateOne\u001b[0m\u001b[0;34m(\u001b[0m\u001b[0;34m)\u001b[0m\u001b[0;34m\u001b[0m\u001b[0;34m\u001b[0m\u001b[0m\n\u001b[0m",
      "\u001b[0;32m<ipython-input-3-4984cacb3f81>\u001b[0m in \u001b[0;36msimulateOne\u001b[0;34m(self)\u001b[0m\n\u001b[1;32m      9\u001b[0m     \u001b[0;32mdef\u001b[0m \u001b[0msimulateOne\u001b[0m\u001b[0;34m(\u001b[0m\u001b[0mself\u001b[0m\u001b[0;34m)\u001b[0m\u001b[0;34m:\u001b[0m\u001b[0;34m\u001b[0m\u001b[0;34m\u001b[0m\u001b[0m\n\u001b[1;32m     10\u001b[0m         \u001b[0;32mfor\u001b[0m \u001b[0mvar_name\u001b[0m \u001b[0;32min\u001b[0m \u001b[0mself\u001b[0m\u001b[0;34m.\u001b[0m\u001b[0morder\u001b[0m\u001b[0;34m:\u001b[0m\u001b[0;34m\u001b[0m\u001b[0;34m\u001b[0m\u001b[0m\n\u001b[0;32m---> 11\u001b[0;31m             \u001b[0mself\u001b[0m\u001b[0;34m.\u001b[0m\u001b[0mvariables\u001b[0m\u001b[0;34m[\u001b[0m\u001b[0mvar_name\u001b[0m\u001b[0;34m]\u001b[0m\u001b[0;34m.\u001b[0m\u001b[0mupdate_value\u001b[0m\u001b[0;34m(\u001b[0m\u001b[0mself\u001b[0m\u001b[0;34m)\u001b[0m\u001b[0;34m\u001b[0m\u001b[0;34m\u001b[0m\u001b[0m\n\u001b[0m\u001b[1;32m     12\u001b[0m \u001b[0;34m\u001b[0m\u001b[0m\n",
      "\u001b[0;32m<ipython-input-2-bc3b2711e9c0>\u001b[0m in \u001b[0;36mupdate_value\u001b[0;34m(self, model)\u001b[0m\n\u001b[1;32m     31\u001b[0m     \u001b[0;32mdef\u001b[0m \u001b[0mupdate_value\u001b[0m\u001b[0;34m(\u001b[0m\u001b[0mself\u001b[0m\u001b[0;34m,\u001b[0m \u001b[0mmodel\u001b[0m\u001b[0;34m)\u001b[0m\u001b[0;34m:\u001b[0m\u001b[0;34m\u001b[0m\u001b[0;34m\u001b[0m\u001b[0m\n\u001b[1;32m     32\u001b[0m         \u001b[0;32mif\u001b[0m \u001b[0mself\u001b[0m\u001b[0;34m.\u001b[0m\u001b[0mdecision_rule\u001b[0m \u001b[0;32mis\u001b[0m \u001b[0;32mNone\u001b[0m\u001b[0;34m:\u001b[0m\u001b[0;34m\u001b[0m\u001b[0;34m\u001b[0m\u001b[0m\n\u001b[0;32m---> 33\u001b[0;31m             \u001b[0;32mraise\u001b[0m \u001b[0mException\u001b[0m\u001b[0;34m(\u001b[0m\u001b[0;34m\"Warning: There's no decision rule!\"\u001b[0m\u001b[0;34m)\u001b[0m\u001b[0;34m\u001b[0m\u001b[0;34m\u001b[0m\u001b[0m\n\u001b[0m\u001b[1;32m     34\u001b[0m             \u001b[0;32mreturn\u001b[0m \u001b[0;32mNone\u001b[0m\u001b[0;34m\u001b[0m\u001b[0;34m\u001b[0m\u001b[0m\n\u001b[1;32m     35\u001b[0m         \u001b[0;32melse\u001b[0m\u001b[0;34m:\u001b[0m\u001b[0;34m\u001b[0m\u001b[0;34m\u001b[0m\u001b[0m\n",
      "\u001b[0;31mException\u001b[0m: Warning: There's no decision rule!"
     ]
    }
   ],
   "source": [
    "my_model.simulateOne()"
   ]
  },
  {
   "cell_type": "markdown",
   "metadata": {},
   "source": [
    "A model can't be simulated until all of its control variables have been given decision rules."
   ]
  },
  {
   "cell_type": "code",
   "execution_count": 6,
   "metadata": {},
   "outputs": [],
   "source": [
    "my_model.variables['c'].set_decision_rule(\n",
    "    lambda m,t: max(m * expit(t-50), 0))"
   ]
  },
  {
   "cell_type": "code",
   "execution_count": 7,
   "metadata": {},
   "outputs": [],
   "source": [
    "my_model.simulateOne()"
   ]
  },
  {
   "cell_type": "code",
   "execution_count": 8,
   "metadata": {},
   "outputs": [
    {
     "data": {
      "text/plain": [
       "1.0366987916736068"
      ]
     },
     "execution_count": 8,
     "metadata": {},
     "output_type": "execute_result"
    }
   ],
   "source": [
    "my_model.variables['m'].value"
   ]
  },
  {
   "cell_type": "code",
   "execution_count": 9,
   "metadata": {},
   "outputs": [],
   "source": [
    "for i in range(100):\n",
    "    my_model.simulateOne()"
   ]
  },
  {
   "cell_type": "code",
   "execution_count": 10,
   "metadata": {},
   "outputs": [
    {
     "data": {
      "image/png": "[encoded data removed]",
      "text/plain": [
       "<Figure size 432x288 with 1 Axes>"
      ]
     },
     "metadata": {
      "needs_background": "light"
     },
     "output_type": "display_data"
    }
   ],
   "source": [
    "plt.plot(my_model.variables['m'].history)\n",
    "plt.yscale('log')"
   ]
  },
  {
   "cell_type": "code",
   "execution_count": null,
   "metadata": {},
   "outputs": [],
   "source": []
  }
 ],
 "metadata": {
  "kernelspec": {
   "display_name": "Python 3.7 econ-ark",
   "language": "python",
   "name": "econ-ark"
  },
  "language_info": {
   "codemirror_mode": {
    "name": "ipython",
    "version": 3
   },
   "file_extension": ".py",
   "mimetype": "text/x-python",
   "name": "python",
   "nbconvert_exporter": "python",
   "pygments_lexer": "ipython3",
   "version": "3.7.5"
  }
 },
 "nbformat": 4,
 "nbformat_minor": 4
}
